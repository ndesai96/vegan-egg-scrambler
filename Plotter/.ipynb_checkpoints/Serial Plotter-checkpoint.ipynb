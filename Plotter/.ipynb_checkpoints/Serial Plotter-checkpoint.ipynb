{
 "cells": [
  {
   "cell_type": "code",
   "execution_count": null,
   "metadata": {
    "collapsed": true
   },
   "outputs": [],
   "source": [
    "import serial\n",
    "import time\n",
    "import csv\n",
    "import matplotlib\n",
    "matplotlib.use(\"tkAgg\")\n",
    "import matplotlib.pyplot as plt\n",
    "import numpy as np\n",
    "\n",
    "\n",
    "SerialPort = 'COM1'\n",
    "\n",
    "ser = serial.Serial(SerialPort)\n",
    "ser.flushInput()\n",
    "\n",
    "plot_window = 20\n",
    "y_var = np.array(np.zeros([plot_window]))\n",
    "\n",
    "plt.ion()\n",
    "fig, ax = plt.subplots()\n",
    "line, = ax.plot(y_var)\n",
    "\n",
    "while True:\n",
    "    try:\n",
    "        ser_bytes = ser.readline()\n",
    "        try:\n",
    "            decoded_bytes = float(ser_bytes[0:len(ser_bytes)-2].decode(\"utf-8\"))\n",
    "            print(decoded_bytes)\n",
    "        except:\n",
    "            continue\n",
    "        with open(\"test_data.csv\",\"a\") as f:\n",
    "            writer = csv.writer(f,delimiter=\",\")\n",
    "            writer.writerow([time.time(),decoded_bytes])\n",
    "        y_var = np.append(y_var,decoded_bytes)\n",
    "        y_var = y_var[1:plot_window]\n",
    "        line.set_ydata(y_var)\n",
    "        ax.relim()\n",
    "        ax.autoscale_view()\n",
    "        fig.canvas.draw()\n",
    "        fig.canvas.flush_events()\n",
    "    except:\n",
    "        print(\"Keyboard Interrupt\")\n",
    "        break"
   ]
  }
 ],
 "metadata": {
  "kernelspec": {
   "display_name": "Python 3",
   "language": "python",
   "name": "python3"
  },
  "language_info": {
   "codemirror_mode": {
    "name": "ipython",
    "version": 3
   },
   "file_extension": ".py",
   "mimetype": "text/x-python",
   "name": "python",
   "nbconvert_exporter": "python",
   "pygments_lexer": "ipython3",
   "version": "3.6.1"
  }
 },
 "nbformat": 4,
 "nbformat_minor": 2
}
